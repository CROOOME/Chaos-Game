{
  "nbformat": 4,
  "nbformat_minor": 0,
  "metadata": {
    "colab": {
      "name": "chaos_game.ipynb",
      "provenance": [],
      "collapsed_sections": [],
      "authorship_tag": "ABX9TyOc47/swmdUySKONbGe4qZ1",
      "include_colab_link": true
    },
    "kernelspec": {
      "name": "python3",
      "display_name": "Python 3"
    }
  },
  "cells": [
    {
      "cell_type": "markdown",
      "metadata": {
        "id": "view-in-github",
        "colab_type": "text"
      },
      "source": [
        "<a href=\"https://colab.research.google.com/github/CROOOME/Chaos-Game/blob/master/chaos_game.ipynb\" target=\"_parent\"><img src=\"https://colab.research.google.com/assets/colab-badge.svg\" alt=\"Open In Colab\"/></a>"
      ]
    },
    {
      "cell_type": "markdown",
      "metadata": {
        "id": "SDnc62RJf0uA",
        "colab_type": "text"
      },
      "source": [
        "## Rules\n",
        "    Given a set of anchor points, \n",
        "    an initially randomly placed point\n",
        "    will move toward a randomly selected anchor point\n",
        "    based on a moving distance (mid-point) "
      ]
    },
    {
      "cell_type": "markdown",
      "metadata": {
        "id": "bnKt3JUzgd84",
        "colab_type": "text"
      },
      "source": [
        "# 2D Chaos Game"
      ]
    },
    {
      "cell_type": "code",
      "metadata": {
        "id": "LLenheH8eWly",
        "colab_type": "code",
        "colab": {
          "base_uri": "https://localhost:8080/",
          "height": 354
        },
        "outputId": "a97ad592-fb54-49f6-9229-db6a46e7f60c"
      },
      "source": [
        "#!/usr/bin/env python\n",
        "\n",
        "\"\"\"\n",
        "    2D Chaos Game\n",
        "\n",
        "\"\"\"\n",
        "\n",
        "__author__ = \"Marco Sandoval\"\n",
        "__license__ = \"GPL\"\n",
        "__version__ = \"1.0.1\"\n",
        "__maintainer__ = \"Marco Sandoval\"\n",
        "__email__ = \"marcosandoval68@gmail.com\"\n",
        "__status__ = \"Production\"\n",
        "\n",
        "from matplotlib.widgets import Slider\n",
        "import matplotlib.pyplot as plt\n",
        "import numpy as np\n",
        "from collections import namedtuple\n",
        "import random\n",
        "\n",
        "Point = namedtuple('Point', 'x y')\n",
        "\n",
        "\n",
        "def mid_point(a, b, portion=2):\n",
        "    c = [0, 0]\n",
        "    c[0] = round((a[0] + b[0])/portion, 2)\n",
        "    c[1] = round((a[1] + b[1])/portion, 2)\n",
        "    return c\n",
        "\n",
        "\n",
        "def calculate_next_position(anchor, old_position):\n",
        "    return mid_point(anchor, old_position)\n",
        "\n",
        "\n",
        "def build_visual(anchors, moving_point=None,):\n",
        "    print('anchors:', anchors)\n",
        "    print('moving_point:', moving_point)\n",
        "\n",
        "    positions = []\n",
        "    new_position = moving_point\n",
        "    steps = 99999\n",
        "    for i in range(steps):\n",
        "        anchor = anchors[random.randrange(len(anchors))]\n",
        "        new_position = calculate_next_position(anchor, new_position)\n",
        "        positions.append(new_position)\n",
        "\n",
        "    anchors = np.array(anchors)\n",
        "    moving_point = np.array(moving_point)\n",
        "    positions = np.array(positions)\n",
        "\n",
        "    slider_size = (0, steps/10)\n",
        "\n",
        "    plt.scatter(*anchors.T, color='r')\n",
        "    plt.scatter(*moving_point.T, color='b')\n",
        "    plt.scatter(*positions.T, s=2)\n",
        "    plt.title('2D Chaos Game\\n steps={}'.format(str(steps)), fontsize=18)\n",
        "    plt.xlabel('x-axis')\n",
        "    plt.ylabel('y-axis')\n",
        "    plt.show()\n",
        "\n",
        "\n",
        "\n",
        "def random_point():\n",
        "    # return Point(x=random.randrange(0, 20), y=random.randrange(0, 20))\n",
        "\n",
        "    return [round(random.uniform(0, 20), 2), round(random.uniform(0, 20), 2)]\n",
        "\n",
        "\n",
        "def generate_anchor_points(n=3):\n",
        "    anchor_points = []\n",
        "\n",
        "    for i in range(n):\n",
        "        anchor_points.append(random_point())\n",
        "\n",
        "    return anchor_points\n",
        "\n",
        "\n",
        "def generate_starting_point():\n",
        "    starting_point = random_point()\n",
        "    return starting_point\n",
        "\n",
        "\n",
        "if __name__ == \"__main__\":\n",
        "    random.seed(100)\n",
        "    num_anchor_points = 3\n",
        "    anchor_points = generate_anchor_points(n=num_anchor_points)\n",
        "    starting_position = generate_starting_point()\n",
        "    build_visual(anchors=anchor_points, moving_point=starting_position)\n"
      ],
      "execution_count": 5,
      "outputs": [
        {
          "output_type": "stream",
          "text": [
            "anchors: [[2.91, 9.1], [15.42, 14.11], [14.64, 8.67]]\n",
            "moving_point: [16.0, 10.66]\n"
          ],
          "name": "stdout"
        },
        {
          "output_type": "display_data",
          "data": {
            "image/png": "[encoded data removed]",
            "text/plain": [
              "<Figure size 432x288 with 1 Axes>"
            ]
          },
          "metadata": {
            "tags": [],
            "needs_background": "light"
          }
        }
      ]
    }
  ]
}